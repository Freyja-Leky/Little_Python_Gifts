{
 "cells": [
  {
   "cell_type": "code",
   "execution_count": 6,
   "metadata": {
    "scrolled": true
   },
   "outputs": [
    {
     "data": {
      "text/plain": [
       "'def output_graph(Lambda):\\n    fig = plt.figure(figsize = (5,6))\\n    ax = fig.add_subplot(1,1,1)\\n    dataXY = ca_1d(L, T, Lambda, cell_init, N, K)\\n    ax.pcolor(np.array(dataXY), vmin = 0, vmax = N-1)\\n    ax.set_xlim(0, L)\\n    ax.set_ylim(T-1, 0)\\n    ax.set_xlabel(\"cell number\")\\n    ax.set_ylabel(\"step\")\\n    ax.set_title(\"rule\"+str(Lambda))\\n    \\noutput_graph(0.3)\\n\\nplt.show()\\n'"
      ]
     },
     "execution_count": 6,
     "metadata": {},
     "output_type": "execute_result"
    }
   ],
   "source": [
    "import matplotlib.pyplot as plt\n",
    "import numpy as np\n",
    "import random as rnd\n",
    "\n",
    "#Parameters\n",
    "L = 101\n",
    "T = 100\n",
    "N = 3\n",
    "K = 3\n",
    "Seed = 100\n",
    "rnd.seed(Seed)\n",
    "\n",
    "#Inital Cells\n",
    "cell_init= [rnd.randint(0, N-1) for i in range(L)]\n",
    "# print (cell_init)\n",
    "\n",
    "#Rule\n",
    "def L_R(Lambda):\n",
    "    Rule = [(0 if rnd.random()<(1.0-Lambda) else rnd.randint(1, N-1)) for i in range(N**K)]\n",
    "#    print (Rule)\n",
    "    return (Rule)\n",
    "\n",
    "def ca_1d(l, t, Lambda, cell_i, n, k):\n",
    "    rule = L_R(Lambda)\n",
    "    cell = cell_i\n",
    "    data = [cell]\n",
    "    for i in range (t):\n",
    "        cell_next  = [0 for i in range (l)]\n",
    "        for j in range (l):\n",
    "            neighboringstate = 0\n",
    "            for m in range(k):\n",
    "                neighboringstate+= cell[int((j+(m-(k-1)/2)+l)%l)]*(n**(k-1-m))\n",
    "            cell_next[j]= rule[neighboringstate]    \n",
    "        cell = cell_next\n",
    "        data.append(cell)\n",
    "           \n",
    "    return (data)\n",
    "\n",
    "#print Graph, RNO for Rule, N for Grpah Amount and n for No.\n",
    "\"\"\"def output_graph(Lambda):\n",
    "    fig = plt.figure(figsize = (5,6))\n",
    "    ax = fig.add_subplot(1,1,1)\n",
    "    dataXY = ca_1d(L, T, Lambda, cell_init, N, K)\n",
    "    ax.pcolor(np.array(dataXY), vmin = 0, vmax = N-1)\n",
    "    ax.set_xlim(0, L)\n",
    "    ax.set_ylim(T-1, 0)\n",
    "    ax.set_xlabel(\"cell number\")\n",
    "    ax.set_ylabel(\"step\")\n",
    "    ax.set_title(\"rule\"+str(Lambda))\n",
    "    \n",
    "output_graph(0.3)\n",
    "\n",
    "plt.show()\n",
    "\"\"\""
   ]
  },
  {
   "cell_type": "code",
   "execution_count": 7,
   "metadata": {},
   "outputs": [],
   "source": [
    "#Transpose the data list to make up for calculation\n",
    "def transp(data):\n",
    "    transposed = list(map(list, zip(*data)))\n",
    "    return transposed\n",
    "\n",
    "#P1\n",
    "def calcEntropy(data):\n",
    "    dic = {}\n",
    "    for d in data:\n",
    "        if d in dic:\n",
    "            dic[d] = dic[d] + 1\n",
    "        else:\n",
    "            dic[d] = 1\n",
    "    probdist = np.array(list(dic.values()))/(float)(len(data))\n",
    "    return (sum(-p * np.log2(p) for p in probdist))\n",
    "\n",
    "#P2\n",
    "def calcJointEntropy(x,y):\n",
    "    xy= [(x[i], y[i]) for i in range(len(x))]\n",
    "    return(calcEntropy(xy))\n",
    "\n",
    "#P3\n",
    "def calcMI(x,y):  \n",
    "    hx = calcEntropy(x)\n",
    "    hy = calcEntropy(y)\n",
    "    hxy = calcJointEntropy(x,y)\n",
    "    return (hx+hy-hxy)\n",
    "\n",
    "#P4\n",
    "def calcCAMList(data):\n",
    "    CAMList = []\n",
    "    for i in range (len(data[0])):\n",
    "        CAMList.append(calcMI(data[i][0:-1],data[i][1:]))\n",
    "    return (CAMList)\n",
    "\n",
    "#P5\n",
    "def calcCAMI(data):\n",
    "    CAMList = calcCAMList(data)\n",
    "    average = np.average(CAMList)\n",
    "    return (average)    "
   ]
  },
  {
   "cell_type": "code",
   "execution_count": 8,
   "metadata": {
    "scrolled": true
   },
   "outputs": [
    {
     "data": {
      "image/png": "[encoded data removed]",
      "text/plain": [
       "<Figure size 432x288 with 1 Axes>"
      ]
     },
     "metadata": {
      "needs_background": "light"
     },
     "output_type": "display_data"
    }
   ],
   "source": [
    "def Lambda_CA():\n",
    "    dataL = []\n",
    "    dataCA = []\n",
    "    for i in range (11):\n",
    "        Lambda = i/10\n",
    "        dataL.append(Lambda)\n",
    "        dataXY = ca_1d(L, T, Lambda, cell_init, N, K)\n",
    "        CAMI = calcCAMI(transp(dataXY))\n",
    "        dataCA.append(CAMI)\n",
    "    return (dataL, dataCA)\n",
    "\n",
    "dataL, dataCA = Lambda_CA()\n",
    "\n",
    "plt.xlabel(\"Lambda\")\n",
    "plt.ylabel(\"Complexity\")\n",
    "plt.plot(dataL, dataCA)\n",
    "#plt.set_title(\"N = \"+N+\" K = \"+K)\n",
    "plt.show()\n",
    "        "
   ]
  },
  {
   "cell_type": "code",
   "execution_count": null,
   "metadata": {},
   "outputs": [],
   "source": []
  },
  {
   "cell_type": "code",
   "execution_count": null,
   "metadata": {},
   "outputs": [],
   "source": []
  },
  {
   "cell_type": "code",
   "execution_count": null,
   "metadata": {},
   "outputs": [],
   "source": []
  }
 ],
 "metadata": {
  "kernelspec": {
   "display_name": "Python 3",
   "language": "python",
   "name": "python3"
  },
  "language_info": {
   "codemirror_mode": {
    "name": "ipython",
    "version": 3
   },
   "file_extension": ".py",
   "mimetype": "text/x-python",
   "name": "python",
   "nbconvert_exporter": "python",
   "pygments_lexer": "ipython3",
   "version": "3.8.5"
  }
 },
 "nbformat": 4,
 "nbformat_minor": 4
}
